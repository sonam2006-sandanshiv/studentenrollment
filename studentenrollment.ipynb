{
 "cells": [
  {
   "cell_type": "code",
   "execution_count": null,
   "id": "59b5be17-d2ec-4981-98de-e414f94fe32f",
   "metadata": {},
   "outputs": [],
   "source": [
    "student_cet=set([\"vil\",\"sonam\",\"sama\",\"neko\"])\n",
    "student_jee=set([\"sama\",\"swipe\",\"ripe\",\"neko\"])\n",
    "student_neet=set([\"ram\",\"sam\",\"sama\",\"wi\"])\n",
    "\n",
    "def student_union():\n",
    "    student_union=student_cet.union(student_jee,student_neet)\n",
    "    print(f\"student giving atleast one exam{student_union}\")\n",
    "def student_intersection():\n",
    "    student_intersection=student_cet.intersection(student_jee,student_neet)\n",
    "    print(f\"students enorlled in all three {student_intersection}\")\n",
    "def student_difference():\n",
    "    student_difference =student_cet.difference(student_jee,student_neet)\n",
    "    print(f\"name of student who are only in cet{student_difference}\")\n",
    "while True:\n",
    "         print(\"\\n1.union\\n2.intersection\\n3.difference\\n4.exit\")\n",
    "         choice= int(input(\"enter the value\"))\n",
    "         if choice==1:\n",
    "            student_union()\n",
    "         elif choice==2:\n",
    "             student_intersection()\n",
    "         elif choice==3:\n",
    "              student_difference()\n",
    "         elif choice==4:\n",
    "             print(\"exit\")\n",
    "             break\n",
    "         else:\n",
    "             print(\"invalid\")\n"
   ]
  }
 ],
 "metadata": {
  "kernelspec": {
   "display_name": "Python 3 (ipykernel)",
   "language": "python",
   "name": "python3"
  },
  "language_info": {
   "codemirror_mode": {
    "name": "ipython",
    "version": 3
   },
   "file_extension": ".py",
   "mimetype": "text/x-python",
   "name": "python",
   "nbconvert_exporter": "python",
   "pygments_lexer": "ipython3",
   "version": "3.12.4"
  }
 },
 "nbformat": 4,
 "nbformat_minor": 5
}
